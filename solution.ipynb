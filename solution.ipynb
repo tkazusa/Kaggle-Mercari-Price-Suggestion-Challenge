{
 "cells": [
  {
   "cell_type": "markdown",
   "metadata": {},
   "source": [
    "## 方針\n",
    "- 純粋なカテゴリカル変数でかつ、カテゴリ数の少ない`item_condition_id`, `shipping`はダミー変数化\n",
    "- textで記載されている特徴量である`name`, `item_description`、 `category_name`は基本的には下記の中から選択\n",
    "    - CountVectorizer or TfidfVectorizer\n",
    "    - Cleaningの有無\n",
    "    - ngramの範囲\n",
    "    - binary表現有無\n",
    "\n",
    "- `brand_name`, `cateogry_name`を混ぜてtextを作っている場合も。1stは２つにまとめていた。\n",
    "    - `df['name'] = df['name'].fillna('') + ' ' + df['brand_name'].fillna('')`\n",
    "    - `df['text'] = (df['item_description'].fillna('') + ' ' + df['name'] + ' ' + df['category_name'].fillna(''))`\n",
    "\n",
    "\n",
    "|特徴量 |EDAでわかったこと| 方針 |  \n",
    "|------|---------------|----|\n",
    "| item_condition_id | 5値カテゴリカル変数。 | ダミー変数化 | \n",
    "| shipping | 2値のカテゴリカル変数。 | ダミー変数化 |\n",
    "| name |1,225,273カテゴリあり、最大17語、7語とかが多そう| tf-idf| \n",
    "| category_name| 1,287カテゴリあるのでone-hotはつらそう。<br> general_cat, subcat1, subcat2へ分解。それぞれがせいぜい3wordくらい　| それぞれをcountvetor化| \n",
    "| brand_name | 4809カテゴリあり、最大7語、だいたいが1、2語　| Label binarize | \n",
    "| item_description| 最大245語の文章。 <br> Not described yetなどの定型文もある。 |  tf-idf | \n",
    "| name2 | `name`+`brand_name` <br> 1stで使われていた特徴量。 | Tfidf(max_features=100000, token_pattern='\\w+') | \n",
    "| text | `item_description`+`name+category_name` <br> 1stで使われていた特徴量。 | Tfidf(max_features=100000, token_pattern='\\w+', ngram_range=(1, 2)) | \n"
   ]
  },
  {
   "cell_type": "code",
   "execution_count": null,
   "metadata": {},
   "outputs": [],
   "source": [
    "import gc\n",
    "from pathlib import Path\n",
    "from typing import List, Tuple\n",
    "\n",
    "import pandas as pd\n",
    "import numpy as np\n",
    "import matplotlib.pyplot as plt\n",
    "\n",
    "\n",
    "import plotly.offline as py\n",
    "py.init_notebook_mode(connected=True)\n",
    "import plotly.graph_objs as go\n",
    "import plotly.tools as tls\n",
    "%matplotlib inline\n",
    "\n",
    "DATADIR = Path('./input')\n",
    "\n",
    "tr_path = DATADIR / 'train.tsv'\n",
    "test_path = DATADIR / 'test.tsv'\n",
    "test2_path = DATADIR / 'test2.tsv'"
   ]
  }
 ],
 "metadata": {
  "kernelspec": {
   "display_name": "Python 3",
   "language": "python",
   "name": "python3"
  },
  "language_info": {
   "codemirror_mode": {
    "name": "ipython",
    "version": 3
   },
   "file_extension": ".py",
   "mimetype": "text/x-python",
   "name": "python",
   "nbconvert_exporter": "python",
   "pygments_lexer": "ipython3",
   "version": "3.5.2"
  }
 },
 "nbformat": 4,
 "nbformat_minor": 2
}
